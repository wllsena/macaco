{
 "cells": [
  {
   "cell_type": "code",
   "execution_count": 1,
   "metadata": {},
   "outputs": [],
   "source": [
    "import integration as it\n",
    "import numpy as np"
   ]
  },
  {
   "cell_type": "code",
   "execution_count": 2,
   "metadata": {},
   "outputs": [],
   "source": [
    "bf = it.BananaFrame(4,2,[0,2])"
   ]
  },
  {
   "cell_type": "code",
   "execution_count": 3,
   "metadata": {},
   "outputs": [],
   "source": [
    "bf.fill_column(0, 0, [1,2, 3, 4])\n",
    "bf.fill_column(2, 1, [\"oi\",\"tchau\", \"1,\", \"2\"])"
   ]
  },
  {
   "cell_type": "code",
   "execution_count": null,
   "metadata": {},
   "outputs": [],
   "source": [
    "class WrongTypeError(Exception):\n",
    "    def __init__(self, data):\n",
    "        Exception.__init__(self, \"Accepted types: <class 'int'>, <class 'float'> and <class 'string'>. Type of {} is {} !\"\n",
    "                                 .format(data, type(data)))\n",
    "        \n",
    "class WrongTypeContextError(Exception):\n",
    "    def __init__(self, first_type, data):\n",
    "        Exception.__init__(self, \"Context Type: {}. Type of {} is {} !\"\n",
    "                                 .format(first_type, data, type(data)))\n",
    "      \n",
    "class WrongDataSizesError(Exception):\n",
    "    def __init__(self):\n",
    "        Exception.__init__(self, \"Dictionary data sizes are incompatible !\")    \n",
    "        \n",
    "class EmpyDicError(Exception):\n",
    "    def __init__(self):\n",
    "        Exception.__init__(self, \"The dictionary cannot be empty !\")    \n",
    "        \n",
    "def check_type(data, atom=False):\n",
    "    if atom:\n",
    "        first_type = type(data)\n",
    "        if first_type not in [int, float, str]:\n",
    "            raise WrongTypeError(data)\n",
    "    \n",
    "    else:\n",
    "        first_type = type(data[0]) \n",
    "        if first_type not in [int, float, str]:\n",
    "            raise WrongTypeError(data[0])\n",
    "        for d in data[1:]:\n",
    "            if type(d) != first_type:\n",
    "                raise WrongTypeContextError(first_type, d)\n",
    "                \n",
    "    return first_type\n",
    "\n",
    "def check_sizes(size, items):\n",
    "    for name, values in items:\n",
    "        if len(values) != size:\n",
    "            raise WrongDataSizesError\n",
    "            \n",
    "def check_empy(items):\n",
    "    if len(items) == 0:\n",
    "        raise EmpyDicError"
   ]
  },
  {
   "cell_type": "code",
   "execution_count": null,
   "metadata": {},
   "outputs": [],
   "source": [
    "class BananaFrame:\n",
    "    __bf      = it.BananaFrame()\n",
    "    __size    = 0\n",
    "    __depth   = 0\n",
    "    __columns = {}\n",
    "    __types   = []\n",
    "    \n",
    "    def __init__ (self, dic):\n",
    "        items = list(dic.items())\n",
    "        self.__depth = len(items[0][1])\n",
    "        self.add_columns(False, items)\n",
    "    \n",
    "    def __general_return (self, name, index):\n",
    "        return lambda : self.__bf.return_column(name, index)\n",
    "    \n",
    "    @property\n",
    "    def columns (self):\n",
    "        return list(self.__columns.keys())\n",
    "    \n",
    "    @property\n",
    "    def size (self):\n",
    "        return (self.__size, self.__depth)\n",
    "    \n",
    "    @property\n",
    "    def types (self):\n",
    "        return self.__types\n",
    "    \n",
    "    def add_columns (self, dic, items=False):\n",
    "        if not items:\n",
    "            items = list(dic.items())\n",
    "            \n",
    "        check_empy(items)\n",
    "        check_sizes(self.__depth, items)\n",
    "        \n",
    "        for name, values in items:\n",
    "            data_type = check_type(values, False).__name__\n",
    "            self.__types.append(data_type)\n",
    "            self.__columns[name] = self.__size\n",
    "            self.__bf.add_column(str(data_type), values)\n",
    "            setattr(self, name, self.__general_return(str(data_type), self.__columns[name]))\n",
    "            \n",
    "            self.__size += 1\n",
    "            \n",
    "            \n",
    "        del items"
   ]
  },
  {
   "cell_type": "code",
   "execution_count": null,
   "metadata": {},
   "outputs": [],
   "source": [
    "dic = {\n",
    "     'City': ['Buenos Aires', 'Brasilia', 'Santiago', 'Bogota', 'Caracas'],\n",
    "     'Country': ['Argentina', 'Brazil', 'Chile', 'Colombia', 'Venezuela'],\n",
    "     'Latitude': [-34.58, -15.78, -33.45, 4.60, 10.48],\n",
    "     'Longitude': [-58.66, -47.91, -70.66, -74.08, -66.86]\n",
    "}\n"
   ]
  },
  {
   "cell_type": "code",
   "execution_count": null,
   "metadata": {},
   "outputs": [],
   "source": [
    "a = BananaFrame(dic)"
   ]
  },
  {
   "cell_type": "code",
   "execution_count": null,
   "metadata": {},
   "outputs": [],
   "source": [
    "a.Latitude()"
   ]
  },
  {
   "cell_type": "code",
   "execution_count": null,
   "metadata": {},
   "outputs": [],
   "source": [
    "a.types"
   ]
  },
  {
   "cell_type": "code",
   "execution_count": null,
   "metadata": {},
   "outputs": [],
   "source": []
  },
  {
   "cell_type": "code",
   "execution_count": null,
   "metadata": {},
   "outputs": [],
   "source": []
  }
 ],
 "metadata": {
  "kernelspec": {
   "display_name": "Python 3",
   "language": "python",
   "name": "python3"
  },
  "language_info": {
   "codemirror_mode": {
    "name": "ipython",
    "version": 3
   },
   "file_extension": ".py",
   "mimetype": "text/x-python",
   "name": "python",
   "nbconvert_exporter": "python",
   "pygments_lexer": "ipython3",
   "version": "3.7.4"
  }
 },
 "nbformat": 4,
 "nbformat_minor": 2
}
