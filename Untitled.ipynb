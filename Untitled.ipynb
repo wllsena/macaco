{
 "cells": [
  {
   "cell_type": "code",
   "execution_count": 9,
   "metadata": {},
   "outputs": [],
   "source": [
    "import macaco as mc"
   ]
  },
  {
   "cell_type": "code",
   "execution_count": 10,
   "metadata": {},
   "outputs": [],
   "source": [
    "dic = {\n",
    "     'City': ['Buenos Aires', 'Brasilia', 'Santiago', 'Bogota', 'Caracas'],\n",
    "     'Country': ['Argentina', 'Brazil', 'Chile', 'Colombia', 'Venezuela'],\n",
    "     'Latitude': [-34.58, -15.78, -33.45, 4.60, 10.48],\n",
    "     'Longitude': [-58.66, -47.91, -74.08, -74.08, -66.86]\n",
    "}"
   ]
  },
  {
   "cell_type": "code",
   "execution_count": 11,
   "metadata": {},
   "outputs": [],
   "source": [
    "bf = mc.BananaFrame(dic)"
   ]
  },
  {
   "cell_type": "code",
   "execution_count": 12,
   "metadata": {},
   "outputs": [
    {
     "data": {
      "text/plain": [
       "['Buenos Aires', 'Brasilia', 'Santiago', 'Bogota', 'Caracas']"
      ]
     },
     "execution_count": 12,
     "metadata": {},
     "output_type": "execute_result"
    }
   ],
   "source": [
    "bf.City()"
   ]
  },
  {
   "cell_type": "code",
   "execution_count": 13,
   "metadata": {},
   "outputs": [
    {
     "data": {
      "text/plain": [
       "['Buenos Aires', 'Brasilia', 'Santiago', 'Bogota', 'Caracas']"
      ]
     },
     "execution_count": 13,
     "metadata": {},
     "output_type": "execute_result"
    }
   ],
   "source": [
    "bf[\"City\"]"
   ]
  },
  {
   "cell_type": "code",
   "execution_count": 14,
   "metadata": {},
   "outputs": [
    {
     "data": {
      "text/plain": [
       "['Buenos Aires', 'Argentina', -34.58000183105469, -58.65999984741211]"
      ]
     },
     "execution_count": 14,
     "metadata": {},
     "output_type": "execute_result"
    }
   ],
   "source": [
    "bf.row(0)"
   ]
  },
  {
   "cell_type": "code",
   "execution_count": 15,
   "metadata": {},
   "outputs": [
    {
     "data": {
      "text/plain": [
       "['Buenos Aires', 'Argentina', -34.58000183105469, -58.65999984741211]"
      ]
     },
     "execution_count": 15,
     "metadata": {},
     "output_type": "execute_result"
    }
   ],
   "source": [
    "bf[0]"
   ]
  },
  {
   "cell_type": "code",
   "execution_count": 16,
   "metadata": {},
   "outputs": [
    {
     "name": "stdout",
     "output_type": "stream",
     "text": [
      "╒════╤══════════════╤═══════════╤════════════╤═════════════╕\n",
      "│    │ City         │ Country   │   Latitude │   Longitude │\n",
      "╞════╪══════════════╪═══════════╪════════════╪═════════════╡\n",
      "│  0 │ Buenos Aires │ Argentina │     -34.58 │      -58.66 │\n",
      "├────┼──────────────┼───────────┼────────────┼─────────────┤\n",
      "│  1 │ Brasilia     │ Brazil    │     -15.78 │      -47.91 │\n",
      "├────┼──────────────┼───────────┼────────────┼─────────────┤\n",
      "│  2 │ Santiago     │ Chile     │     -33.45 │      -74.08 │\n",
      "├────┼──────────────┼───────────┼────────────┼─────────────┤\n",
      "│  3 │ Bogota       │ Colombia  │       4.6  │      -74.08 │\n",
      "├────┼──────────────┼───────────┼────────────┼─────────────┤\n",
      "│  4 │ Caracas      │ Venezuela │      10.48 │      -66.86 │\n",
      "╘════╧══════════════╧═══════════╧════════════╧═════════════╛\n"
     ]
    }
   ],
   "source": [
    "bf.display()"
   ]
  },
  {
   "cell_type": "code",
   "execution_count": 17,
   "metadata": {},
   "outputs": [],
   "source": [
    "bf.slices([1,2])"
   ]
  },
  {
   "cell_type": "code",
   "execution_count": 18,
   "metadata": {},
   "outputs": [
    {
     "name": "stdout",
     "output_type": "stream",
     "text": [
      "╒════╤══════════╤═══════════╕\n",
      "│    │ City     │ Country   │\n",
      "╞════╪══════════╪═══════════╡\n",
      "│  0 │ Brasilia │ Brazil    │\n",
      "├────┼──────────┼───────────┤\n",
      "│  1 │ Santiago │ Chile     │\n",
      "╘════╧══════════╧═══════════╛\n"
     ]
    }
   ],
   "source": [
    "bf.display()"
   ]
  },
  {
   "cell_type": "code",
   "execution_count": 24,
   "metadata": {},
   "outputs": [
    {
     "data": {
      "text/plain": [
       "[-15.779999732971191, -33.45000076293945]"
      ]
     },
     "execution_count": 24,
     "metadata": {},
     "output_type": "execute_result"
    }
   ],
   "source": [
    "bf.Latitude()"
   ]
  },
  {
   "cell_type": "code",
   "execution_count": null,
   "metadata": {},
   "outputs": [],
   "source": [
    "import numpy as np\n",
    "teams_list = [\"Man Utdasdsaddasd\", \"Man City\", \"T Hotspur\"]\n",
    "data = np.array([[1, 2, 1],\n",
    "                 [0, 1, 0],\n",
    "                 [2, 4, 2]])\n",
    "\n",
    "row_format =\"{:>15}\" * (len(teams_list) + 1)\n",
    "print(row_format.format(\"\", *teams_list))\n",
    "for team, row in zip(teams_list, data):\n",
    "    print(row_format.format(team, *row))"
   ]
  },
  {
   "cell_type": "code",
   "execution_count": null,
   "metadata": {},
   "outputs": [],
   "source": []
  },
  {
   "cell_type": "code",
   "execution_count": null,
   "metadata": {},
   "outputs": [],
   "source": [
    "from tabulate import tabulate\n",
    "print(tabulate([['Aliceasdasds', 24], ['Bob', 19]], headers=['Name', 'Age']))"
   ]
  },
  {
   "cell_type": "code",
   "execution_count": null,
   "metadata": {},
   "outputs": [],
   "source": [
    "tabulate?"
   ]
  },
  {
   "cell_type": "code",
   "execution_count": null,
   "metadata": {},
   "outputs": [],
   "source": []
  }
 ],
 "metadata": {
  "kernelspec": {
   "display_name": "Python 3",
   "language": "python",
   "name": "python3"
  },
  "language_info": {
   "codemirror_mode": {
    "name": "ipython",
    "version": 3
   },
   "file_extension": ".py",
   "mimetype": "text/x-python",
   "name": "python",
   "nbconvert_exporter": "python",
   "pygments_lexer": "ipython3",
   "version": "3.7.4"
  }
 },
 "nbformat": 4,
 "nbformat_minor": 2
}
